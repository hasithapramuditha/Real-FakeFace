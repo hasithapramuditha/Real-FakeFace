{
  "nbformat": 4,
  "nbformat_minor": 0,
  "metadata": {
    "colab": {
      "provenance": [],
      "collapsed_sections": [
        "t_jXKO2qh_KM",
        "JxAQNJ-Fi864"
      ],
      "gpuType": "T4"
    },
    "kernelspec": {
      "name": "python3",
      "display_name": "Python 3"
    },
    "language_info": {
      "name": "python"
    },
    "accelerator": "GPU"
  },
  "cells": [
    {
      "cell_type": "markdown",
      "source": [
        "# Fake vs. Real Faces classification: a comparison between models\n",
        "\n",
        "\n",
        "**Authors**\n",
        "\n",
        "*   MUTHUGALA M.K.M - 2020e100\n",
        "*   PRAMUDITHA R.M.H - 2020e114\n",
        "*   SENARATHNE P.L.O.N - 2020e188"
      ],
      "metadata": {
        "id": "wISyn71ahbeZ"
      }
    },
    {
      "cell_type": "markdown",
      "source": [
        "# Summary <a class=\"anchor\" name=\"summary\"></a>\n",
        "\n",
        "* [Part 1: CNN](#part_01)\n",
        "* [Part 2: VGG16](#part_02)\n"
      ],
      "metadata": {
        "id": "q8lSSl9ahhr9"
      }
    },
    {
      "cell_type": "markdown",
      "source": [
        "## CNN <a class=\"anchor\" name=\"part_01\"></a>"
      ],
      "metadata": {
        "id": "t_jXKO2qh_KM"
      }
    },
    {
      "cell_type": "markdown",
      "source": [
        "###Read Dataset from Github"
      ],
      "metadata": {
        "id": "TJynzqZGiESv"
      }
    },
    {
      "cell_type": "code",
      "source": [
        "!git clone https://github.com/hasithapramuditha/Real-FakeFace.git"
      ],
      "metadata": {
        "colab": {
          "base_uri": "https://localhost:8080/"
        },
        "id": "lucc_qJYY0wK",
        "outputId": "a9ad27b2-75fd-452e-e83d-bfbb397a4da3"
      },
      "execution_count": 1,
      "outputs": [
        {
          "output_type": "stream",
          "name": "stdout",
          "text": [
            "Cloning into 'Real-FakeFace'...\n",
            "remote: Enumerating objects: 2074, done.\u001b[K\n",
            "remote: Counting objects: 100% (2/2), done.\u001b[K\n",
            "remote: Compressing objects: 100% (2/2), done.\u001b[K\n",
            "remote: Total 2074 (delta 0), reused 1 (delta 0), pack-reused 2072\u001b[K\n",
            "Receiving objects: 100% (2074/2074), 219.42 MiB | 14.56 MiB/s, done.\n",
            "Resolving deltas: 100% (7/7), done.\n",
            "Updating files: 100% (2044/2044), done.\n"
          ]
        }
      ]
    },
    {
      "cell_type": "markdown",
      "source": [
        "###Import Required Libraries"
      ],
      "metadata": {
        "id": "GN4kAQWhiUZE"
      }
    },
    {
      "cell_type": "code",
      "source": [
        "import os\n",
        "import numpy as np\n",
        "import matplotlib.pyplot as plt\n",
        "from sklearn.metrics import classification_report, confusion_matrix\n",
        "import tensorflow as tf\n",
        "from tensorflow.keras.preprocessing.image import ImageDataGenerator\n",
        "from tensorflow.keras.models import Sequential\n",
        "from tensorflow.keras.layers import Conv2D, MaxPooling2D, Flatten, Dense, Dropout"
      ],
      "metadata": {
        "id": "FcUAnToXcw03"
      },
      "execution_count": 2,
      "outputs": []
    },
    {
      "cell_type": "markdown",
      "source": [
        "###Load and Augment Data"
      ],
      "metadata": {
        "id": "VnKRrbubiZo8"
      }
    },
    {
      "cell_type": "code",
      "source": [
        "import os\n",
        "import random\n",
        "import shutil\n",
        "\n",
        "# Define the paths\n",
        "dataset_path = \"/content/Real-FakeFace/Real and Fake Face Detection Dataset\"\n",
        "train_path = os.path.join(dataset_path, \"train\")\n",
        "val_path = os.path.join(dataset_path, \"val\")\n",
        "test_path = os.path.join(dataset_path, \"test\")\n",
        "\n",
        "categories = [\"Fake\", \"Real\"]\n",
        "\n",
        "# Create train, validation, and test directories if they don't exist\n",
        "os.makedirs(train_path, exist_ok=True)\n",
        "os.makedirs(val_path, exist_ok=True)\n",
        "os.makedirs(test_path, exist_ok=True)\n",
        "\n",
        "# Create subdirectories for each category in train, validation, and test directories\n",
        "for category in categories:\n",
        "    train_category_path = os.path.join(train_path, category)\n",
        "    val_category_path = os.path.join(val_path, category)\n",
        "    test_category_path = os.path.join(test_path, category)\n",
        "    os.makedirs(train_category_path, exist_ok=True)\n",
        "    os.makedirs(val_category_path, exist_ok=True)\n",
        "    os.makedirs(test_category_path, exist_ok=True)\n",
        "\n",
        "# Define the split ratios\n",
        "train_ratio = 0.7\n",
        "val_ratio = 0.2\n",
        "test_ratio = 0.1\n",
        "\n",
        "# Iterate through each category\n",
        "for category in categories:\n",
        "    category_path = os.path.join(dataset_path, category)\n",
        "    images = os.listdir(category_path)\n",
        "\n",
        "    # Shuffle the images\n",
        "    random.shuffle(images)\n",
        "\n",
        "    # Calculate the number of images for each set\n",
        "    num_images = len(images)\n",
        "    num_train_images = int(num_images * train_ratio)\n",
        "    num_val_images = int(num_images * val_ratio)\n",
        "    num_test_images = num_images - num_train_images - num_val_images\n",
        "\n",
        "    # Split the images\n",
        "    train_images = images[:num_train_images]\n",
        "    val_images = images[num_train_images:num_train_images + num_val_images]\n",
        "    test_images = images[num_train_images + num_val_images:]\n",
        "\n",
        "    # Move train images to the train directory\n",
        "    for img in train_images:\n",
        "        src = os.path.join(category_path, img)\n",
        "        dst = os.path.join(train_path, category, img)\n",
        "        shutil.move(src, dst)\n",
        "\n",
        "    # Move validation images to the validation directory\n",
        "    for img in val_images:\n",
        "        src = os.path.join(category_path, img)\n",
        "        dst = os.path.join(val_path, category, img)\n",
        "        shutil.move(src, dst)\n",
        "\n",
        "    # Move test images to the test directory\n",
        "    for img in test_images:\n",
        "        src = os.path.join(category_path, img)\n",
        "        dst = os.path.join(test_path, category, img)\n",
        "        shutil.move(src, dst)\n",
        "\n",
        "# Remove the empty category directories\n",
        "for category in categories:\n",
        "    os.rmdir(os.path.join(dataset_path, category))\n"
      ],
      "metadata": {
        "id": "-iYVGabBtqHg"
      },
      "execution_count": 3,
      "outputs": []
    },
    {
      "cell_type": "code",
      "source": [
        "# Define paths\n",
        "dataset_path = \"/content/Real-FakeFace/Real and Fake Face Detection Dataset\"\n",
        "train_path = os.path.join(dataset_path, \"train\")\n",
        "val_path = os.path.join(dataset_path, \"val\")\n",
        "test_path = os.path.join(dataset_path, \"test\")\n",
        "\n",
        "# Image dimensions and batch size\n",
        "img_width, img_height = 150, 150\n",
        "batch_size = 32\n",
        "\n",
        "# Augmentation and normalization for training\n",
        "train_datagen = ImageDataGenerator(\n",
        "    rescale=1. / 255,\n",
        "    shear_range=0.2,\n",
        "    zoom_range=0.2,\n",
        "    horizontal_flip=True)\n",
        "\n",
        "# Normalization for validation and test\n",
        "val_test_datagen = ImageDataGenerator(rescale=1. / 255)\n",
        "\n",
        "# Flow training images in batches using train_datagen generator\n",
        "train_generator = train_datagen.flow_from_directory(\n",
        "    train_path,\n",
        "    target_size=(img_width, img_height),\n",
        "    batch_size=batch_size,\n",
        "    class_mode='binary')\n",
        "\n",
        "# Flow validation images in batches using val_test_datagen generator\n",
        "val_generator = val_test_datagen.flow_from_directory(\n",
        "    val_path,\n",
        "    target_size=(img_width, img_height),\n",
        "    batch_size=batch_size,\n",
        "    class_mode='binary',\n",
        "    shuffle=False)\n",
        "\n",
        "# Flow test images in batches using val_test_datagen generator\n",
        "test_generator = val_test_datagen.flow_from_directory(\n",
        "    test_path,\n",
        "    target_size=(img_width, img_height),\n",
        "    batch_size=batch_size,\n",
        "    class_mode='binary',\n",
        "    shuffle=False)\n"
      ],
      "metadata": {
        "colab": {
          "base_uri": "https://localhost:8080/"
        },
        "id": "zNOB12D2cxy2",
        "outputId": "9d7c73c2-d0c9-49bb-d650-db702122ff8d"
      },
      "execution_count": 4,
      "outputs": [
        {
          "output_type": "stream",
          "name": "stdout",
          "text": [
            "Found 1428 images belonging to 2 classes.\n",
            "Found 408 images belonging to 2 classes.\n",
            "Found 205 images belonging to 2 classes.\n"
          ]
        }
      ]
    },
    {
      "cell_type": "markdown",
      "source": [
        "###Define and Compile the CNN Model"
      ],
      "metadata": {
        "id": "ZL3HwKI4ig9M"
      }
    },
    {
      "cell_type": "code",
      "source": [
        "model = Sequential([\n",
        "    Conv2D(32, (3, 3), activation='relu', input_shape=(img_width, img_height, 3)),\n",
        "    MaxPooling2D((2, 2)),\n",
        "    Conv2D(64, (3, 3), activation='relu'),\n",
        "    MaxPooling2D((2, 2)),\n",
        "    Conv2D(128, (3, 3), activation='relu'),\n",
        "    MaxPooling2D((2, 2)),\n",
        "    Flatten(),\n",
        "    Dense(512, activation='relu'),\n",
        "    Dropout(0.5),\n",
        "    Dense(1, activation='sigmoid')\n",
        "])\n",
        "\n",
        "model.compile(optimizer='adam',\n",
        "              loss='binary_crossentropy',\n",
        "              metrics=['accuracy'])\n"
      ],
      "metadata": {
        "id": "KF1uEmngc2U-"
      },
      "execution_count": 5,
      "outputs": []
    },
    {
      "cell_type": "markdown",
      "source": [
        "###Train the Model"
      ],
      "metadata": {
        "id": "4fIi4F05intE"
      }
    },
    {
      "cell_type": "code",
      "source": [
        "epochs = 10\n",
        "\n",
        "history = model.fit(\n",
        "    train_generator,\n",
        "    steps_per_epoch=train_generator.samples // batch_size,\n",
        "    epochs=epochs,\n",
        "    validation_data=val_generator,\n",
        "    validation_steps=val_generator.samples // batch_size)\n"
      ],
      "metadata": {
        "colab": {
          "base_uri": "https://localhost:8080/"
        },
        "id": "TmYbtnsFc5s9",
        "outputId": "712ad21c-9433-412e-bec0-8f751d39625a"
      },
      "execution_count": 6,
      "outputs": [
        {
          "output_type": "stream",
          "name": "stdout",
          "text": [
            "Epoch 1/10\n",
            "44/44 [==============================] - 31s 544ms/step - loss: 0.7588 - accuracy: 0.5312 - val_loss: 0.6929 - val_accuracy: 0.5000\n",
            "Epoch 2/10\n",
            "44/44 [==============================] - 24s 540ms/step - loss: 0.6913 - accuracy: 0.5408 - val_loss: 0.6904 - val_accuracy: 0.5755\n",
            "Epoch 3/10\n",
            "44/44 [==============================] - 24s 539ms/step - loss: 0.6904 - accuracy: 0.5351 - val_loss: 0.6877 - val_accuracy: 0.5964\n",
            "Epoch 4/10\n",
            "44/44 [==============================] - 24s 558ms/step - loss: 0.6830 - accuracy: 0.5752 - val_loss: 0.7232 - val_accuracy: 0.5078\n",
            "Epoch 5/10\n",
            "44/44 [==============================] - 23s 524ms/step - loss: 0.6795 - accuracy: 0.5702 - val_loss: 0.6670 - val_accuracy: 0.6094\n",
            "Epoch 6/10\n",
            "44/44 [==============================] - 24s 554ms/step - loss: 0.6751 - accuracy: 0.5910 - val_loss: 0.6778 - val_accuracy: 0.5599\n",
            "Epoch 7/10\n",
            "44/44 [==============================] - 23s 517ms/step - loss: 0.6762 - accuracy: 0.5673 - val_loss: 0.6766 - val_accuracy: 0.5885\n",
            "Epoch 8/10\n",
            "44/44 [==============================] - 24s 547ms/step - loss: 0.6726 - accuracy: 0.5838 - val_loss: 0.6623 - val_accuracy: 0.5990\n",
            "Epoch 9/10\n",
            "44/44 [==============================] - 23s 517ms/step - loss: 0.6758 - accuracy: 0.5759 - val_loss: 0.6540 - val_accuracy: 0.6380\n",
            "Epoch 10/10\n",
            "44/44 [==============================] - 23s 520ms/step - loss: 0.6708 - accuracy: 0.5852 - val_loss: 0.6675 - val_accuracy: 0.6094\n"
          ]
        }
      ]
    },
    {
      "cell_type": "markdown",
      "source": [
        "###Plot Accuracy and Loss Graphs"
      ],
      "metadata": {
        "id": "wXWIslhpitA0"
      }
    },
    {
      "cell_type": "code",
      "source": [
        "# Plot training & validation accuracy values\n",
        "plt.plot(history.history['accuracy'])\n",
        "plt.plot(history.history['val_accuracy'])\n",
        "plt.title('Model accuracy')\n",
        "plt.ylabel('Accuracy')\n",
        "plt.xlabel('Epoch')\n",
        "plt.legend(['Train', 'Validation'], loc='upper left')\n",
        "plt.show()\n",
        "\n",
        "# Plot training & validation loss values\n",
        "plt.plot(history.history['loss'])\n",
        "plt.plot(history.history['val_loss'])\n",
        "plt.title('Model loss')\n",
        "plt.ylabel('Loss')\n",
        "plt.xlabel('Epoch')\n",
        "plt.legend(['Train', 'Validation'], loc='upper left')\n",
        "plt.show()"
      ],
      "metadata": {
        "id": "jbFm-w5uc-Tq",
        "colab": {
          "base_uri": "https://localhost:8080/",
          "height": 927
        },
        "outputId": "b40ab2d3-c3bb-48a9-ae78-a6969e85a1d7"
      },
      "execution_count": 7,
      "outputs": [
        {
          "output_type": "display_data",
          "data": {
            "text/plain": [
              "<Figure size 640x480 with 1 Axes>"
            ],
            "image/png": "[encoded data removed]"
          },
          "metadata": {}
        },
        {
          "output_type": "display_data",
          "data": {
            "text/plain": [
              "<Figure size 640x480 with 1 Axes>"
            ],
            "image/png": "[encoded data removed]"
          },
          "metadata": {}
        }
      ]
    },
    {
      "cell_type": "markdown",
      "source": [
        "###Evaluate on Test Data and Plot Confusion Matrix"
      ],
      "metadata": {
        "id": "PAsbGeRmizWq"
      }
    },
    {
      "cell_type": "code",
      "source": [
        "import seaborn as sns\n",
        "# Evaluate on test data\n",
        "test_loss, test_acc = model.evaluate(test_generator, verbose=2)\n",
        "print(f'Test accuracy: {test_acc}')\n",
        "\n",
        "# Predict classes for test data\n",
        "y_pred = model.predict(test_generator)\n",
        "y_pred_classes = np.round(y_pred)\n",
        "\n",
        "# True classes for test data\n",
        "y_true = test_generator.classes\n",
        "\n",
        "# Generate classification report\n",
        "print(classification_report(y_true, y_pred_classes))\n",
        "\n",
        "# Generate confusion matrix\n",
        "conf_matrix = confusion_matrix(y_true, y_pred_classes)\n",
        "print('Confusion Matrix:')\n",
        "print(conf_matrix)\n",
        "\n",
        "# Define class labels\n",
        "class_labels = ['Fake', 'Real']\n",
        "\n",
        "# Plot confusion matrix with labels\n",
        "plt.figure(figsize=(8, 6))\n",
        "sns.heatmap(conf_matrix, annot=True, fmt='d', cmap='Blues',\n",
        "            xticklabels=class_labels, yticklabels=class_labels)\n",
        "plt.title('Confusion Matrix')\n",
        "plt.xlabel('Predicted Labels')\n",
        "plt.ylabel('True Labels')\n",
        "plt.show()\n",
        "\n"
      ],
      "metadata": {
        "id": "cVaHw_T1dHkH",
        "colab": {
          "base_uri": "https://localhost:8080/",
          "height": 824
        },
        "outputId": "d7ac3ce0-38ef-42c8-dda2-8fc1302941ad"
      },
      "execution_count": 8,
      "outputs": [
        {
          "output_type": "stream",
          "name": "stdout",
          "text": [
            "7/7 - 2s - loss: 0.6798 - accuracy: 0.5317 - 2s/epoch - 265ms/step\n",
            "Test accuracy: 0.5317073464393616\n",
            "7/7 [==============================] - 2s 219ms/step\n",
            "              precision    recall  f1-score   support\n",
            "\n",
            "           0       0.50      0.41      0.45        96\n",
            "           1       0.55      0.64      0.59       109\n",
            "\n",
            "    accuracy                           0.53       205\n",
            "   macro avg       0.53      0.52      0.52       205\n",
            "weighted avg       0.53      0.53      0.53       205\n",
            "\n",
            "Confusion Matrix:\n",
            "[[39 57]\n",
            " [39 70]]\n"
          ]
        },
        {
          "output_type": "display_data",
          "data": {
            "text/plain": [
              "<Figure size 800x600 with 2 Axes>"
            ],
            "image/png": "[encoded data removed]"
          },
          "metadata": {}
        }
      ]
    },
    {
      "cell_type": "markdown",
      "source": [
        "## VGG16 <a class=\"anchor\" name=\"part_02\"></a>"
      ],
      "metadata": {
        "id": "JxAQNJ-Fi864"
      }
    },
    {
      "cell_type": "markdown",
      "source": [
        "###Import Required Libraries"
      ],
      "metadata": {
        "id": "rg2983PKjJne"
      }
    },
    {
      "cell_type": "code",
      "source": [
        "import os\n",
        "import numpy as np\n",
        "import matplotlib.pyplot as plt\n",
        "import seaborn as sns\n",
        "from sklearn.metrics import classification_report, confusion_matrix\n",
        "import tensorflow as tf\n",
        "from tensorflow.keras.preprocessing.image import ImageDataGenerator\n",
        "from tensorflow.keras.applications import VGG16\n",
        "from tensorflow.keras.models import Sequential\n",
        "from tensorflow.keras.layers import Dense, Flatten, Dropout"
      ],
      "metadata": {
        "id": "ug6_mz8Ve7Go"
      },
      "execution_count": 9,
      "outputs": []
    },
    {
      "cell_type": "markdown",
      "source": [
        "###Load and Augment Data"
      ],
      "metadata": {
        "id": "vEJbH50LjK5f"
      }
    },
    {
      "cell_type": "code",
      "source": [
        "# Image dimensions and batch size\n",
        "img_width, img_height = 224, 224\n",
        "batch_size = 32\n",
        "\n",
        "# Augmentation and normalization for training\n",
        "train_datagen = ImageDataGenerator(\n",
        "    rescale=1. / 255,\n",
        "    shear_range=0.2,\n",
        "    zoom_range=0.2,\n",
        "    horizontal_flip=True)\n",
        "\n",
        "# Normalization for validation and test\n",
        "val_test_datagen = ImageDataGenerator(rescale=1. / 255)\n",
        "\n",
        "# Flow training images in batches using train_datagen generator\n",
        "train_generator = train_datagen.flow_from_directory(\n",
        "    train_path,\n",
        "    target_size=(img_width, img_height),\n",
        "    batch_size=batch_size,\n",
        "    class_mode='binary')\n",
        "\n",
        "# Flow validation images in batches using val_test_datagen generator\n",
        "val_generator = val_test_datagen.flow_from_directory(\n",
        "    val_path,\n",
        "    target_size=(img_width, img_height),\n",
        "    batch_size=batch_size,\n",
        "    class_mode='binary',\n",
        "    shuffle=False)\n",
        "\n",
        "# Flow test images in batches using val_test_datagen generator\n",
        "test_generator = val_test_datagen.flow_from_directory(\n",
        "    test_path,\n",
        "    target_size=(img_width, img_height),\n",
        "    batch_size=batch_size,\n",
        "    class_mode='binary',\n",
        "    shuffle=False)\n"
      ],
      "metadata": {
        "id": "LG6D-vztfQP_",
        "colab": {
          "base_uri": "https://localhost:8080/"
        },
        "outputId": "72ec68d4-058c-4575-d18d-35e3a9270d46"
      },
      "execution_count": 10,
      "outputs": [
        {
          "output_type": "stream",
          "name": "stdout",
          "text": [
            "Found 1428 images belonging to 2 classes.\n",
            "Found 408 images belonging to 2 classes.\n",
            "Found 205 images belonging to 2 classes.\n"
          ]
        }
      ]
    },
    {
      "cell_type": "markdown",
      "source": [
        "###Load VGG16 Model (Pre-trained)"
      ],
      "metadata": {
        "id": "Ux9Rc1OCjRAU"
      }
    },
    {
      "cell_type": "code",
      "source": [
        "# Load pre-trained VGG16 model without top layers (include_top=False)\n",
        "base_model = VGG16(weights='imagenet', include_top=False, input_shape=(img_width, img_height, 3))\n",
        "\n",
        "# Freeze the layers in the base model\n",
        "for layer in base_model.layers:\n",
        "    layer.trainable = False"
      ],
      "metadata": {
        "id": "LMQgVBP-fTeQ",
        "colab": {
          "base_uri": "https://localhost:8080/"
        },
        "outputId": "e74cbe7c-2082-4b38-8504-3fb64877b5ff"
      },
      "execution_count": 11,
      "outputs": [
        {
          "output_type": "stream",
          "name": "stdout",
          "text": [
            "Downloading data from https://storage.googleapis.com/tensorflow/keras-applications/vgg16/vgg16_weights_tf_dim_ordering_tf_kernels_notop.h5\n",
            "58889256/58889256 [==============================] - 0s 0us/step\n"
          ]
        }
      ]
    },
    {
      "cell_type": "markdown",
      "source": [
        "###Build and Compile the Model"
      ],
      "metadata": {
        "id": "3bMfjYBIjiYN"
      }
    },
    {
      "cell_type": "code",
      "source": [
        "# Create a new model on top of the pre-trained base model\n",
        "model = Sequential([\n",
        "    base_model,\n",
        "    Flatten(),\n",
        "    Dense(256, activation='relu'),\n",
        "    Dropout(0.5),\n",
        "    Dense(1, activation='sigmoid')\n",
        "])\n",
        "\n",
        "# Compile the model\n",
        "model.compile(optimizer='adam',\n",
        "              loss='binary_crossentropy',\n",
        "              metrics=['accuracy'])\n"
      ],
      "metadata": {
        "id": "hOMETea8fYUa"
      },
      "execution_count": 12,
      "outputs": []
    },
    {
      "cell_type": "markdown",
      "source": [
        "###Train the Model"
      ],
      "metadata": {
        "id": "S6zID8hHjncN"
      }
    },
    {
      "cell_type": "code",
      "source": [
        "epochs = 10\n",
        "\n",
        "history = model.fit(\n",
        "    train_generator,\n",
        "    steps_per_epoch=train_generator.samples // batch_size,\n",
        "    epochs=epochs,\n",
        "    validation_data=val_generator,\n",
        "    validation_steps=val_generator.samples // batch_size)\n"
      ],
      "metadata": {
        "id": "fLf5T3I-fbu0",
        "colab": {
          "base_uri": "https://localhost:8080/"
        },
        "outputId": "58820d4c-517c-4103-e8bb-a48fdf52393b"
      },
      "execution_count": 13,
      "outputs": [
        {
          "output_type": "stream",
          "name": "stdout",
          "text": [
            "Epoch 1/10\n",
            "44/44 [==============================] - 42s 786ms/step - loss: 1.1263 - accuracy: 0.5451 - val_loss: 0.6746 - val_accuracy: 0.5859\n",
            "Epoch 2/10\n",
            "44/44 [==============================] - 32s 721ms/step - loss: 0.6571 - accuracy: 0.5989 - val_loss: 0.6571 - val_accuracy: 0.5938\n",
            "Epoch 3/10\n",
            "44/44 [==============================] - 31s 701ms/step - loss: 0.6520 - accuracy: 0.6218 - val_loss: 0.6366 - val_accuracy: 0.6562\n",
            "Epoch 4/10\n",
            "44/44 [==============================] - 31s 699ms/step - loss: 0.6317 - accuracy: 0.6332 - val_loss: 0.6324 - val_accuracy: 0.6510\n",
            "Epoch 5/10\n",
            "44/44 [==============================] - 31s 706ms/step - loss: 0.6239 - accuracy: 0.6626 - val_loss: 0.7146 - val_accuracy: 0.5677\n",
            "Epoch 6/10\n",
            "44/44 [==============================] - 33s 744ms/step - loss: 0.6132 - accuracy: 0.6590 - val_loss: 0.6184 - val_accuracy: 0.6615\n",
            "Epoch 7/10\n",
            "44/44 [==============================] - 32s 736ms/step - loss: 0.6016 - accuracy: 0.6683 - val_loss: 0.6320 - val_accuracy: 0.6536\n",
            "Epoch 8/10\n",
            "44/44 [==============================] - 31s 704ms/step - loss: 0.6003 - accuracy: 0.6662 - val_loss: 0.6239 - val_accuracy: 0.6615\n",
            "Epoch 9/10\n",
            "44/44 [==============================] - 32s 728ms/step - loss: 0.5869 - accuracy: 0.6948 - val_loss: 0.6251 - val_accuracy: 0.6693\n",
            "Epoch 10/10\n",
            "44/44 [==============================] - 32s 723ms/step - loss: 0.5844 - accuracy: 0.6963 - val_loss: 0.6247 - val_accuracy: 0.6510\n"
          ]
        }
      ]
    },
    {
      "cell_type": "markdown",
      "source": [
        "###Evaluate on Test Data and Plot Confusion Matrix"
      ],
      "metadata": {
        "id": "7PBWaubejt0j"
      }
    },
    {
      "cell_type": "code",
      "source": [
        "# Evaluate on test data\n",
        "test_loss, test_acc = model.evaluate(test_generator, verbose=2)\n",
        "print(f'Test accuracy: {test_acc}')\n",
        "\n",
        "# Predict classes for test data\n",
        "y_pred = model.predict(test_generator)\n",
        "y_pred_classes = np.round(y_pred)\n",
        "\n",
        "# True classes for test data\n",
        "y_true = test_generator.classes\n",
        "\n",
        "# Generate classification report\n",
        "print(classification_report(y_true, y_pred_classes))\n",
        "\n",
        "# Generate confusion matrix\n",
        "conf_matrix = confusion_matrix(y_true, y_pred_classes)\n",
        "print('Confusion Matrix:')\n",
        "print(conf_matrix)\n",
        "\n",
        "# Plot confusion matrix with labels\n",
        "class_labels = ['Fake', 'Real']\n",
        "plt.figure(figsize=(8, 6))\n",
        "sns.heatmap(conf_matrix, annot=True, fmt='d', cmap='Blues',\n",
        "            xticklabels=class_labels, yticklabels=class_labels)\n",
        "plt.title('Confusion Matrix')\n",
        "plt.xlabel('Predicted Labels')\n",
        "plt.ylabel('True Labels')\n",
        "plt.show()\n"
      ],
      "metadata": {
        "id": "VJ4clOQHfgeT",
        "colab": {
          "base_uri": "https://localhost:8080/",
          "height": 824
        },
        "outputId": "2947db4f-4e45-4b01-88ed-33f7d517fb31"
      },
      "execution_count": 14,
      "outputs": [
        {
          "output_type": "stream",
          "name": "stdout",
          "text": [
            "7/7 - 6s - loss: 0.6244 - accuracy: 0.6488 - 6s/epoch - 814ms/step\n",
            "Test accuracy: 0.6487804651260376\n",
            "7/7 [==============================] - 2s 259ms/step\n",
            "              precision    recall  f1-score   support\n",
            "\n",
            "           0       0.60      0.77      0.67        96\n",
            "           1       0.73      0.54      0.62       109\n",
            "\n",
            "    accuracy                           0.65       205\n",
            "   macro avg       0.66      0.66      0.65       205\n",
            "weighted avg       0.67      0.65      0.65       205\n",
            "\n",
            "Confusion Matrix:\n",
            "[[74 22]\n",
            " [50 59]]\n"
          ]
        },
        {
          "output_type": "display_data",
          "data": {
            "text/plain": [
              "<Figure size 800x600 with 2 Axes>"
            ],
            "image/png": "[encoded data removed]"
          },
          "metadata": {}
        }
      ]
    }
  ]
}